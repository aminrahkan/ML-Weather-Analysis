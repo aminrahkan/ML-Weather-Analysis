{
 "cells": [
  {
   "cell_type": "code",
   "execution_count": 2,
   "id": "1366478f-d30a-4d45-8961-6224729dd32f",
   "metadata": {},
   "outputs": [
    {
     "data": {
      "text/html": [
       "<div>\n",
       "<style scoped>\n",
       "    .dataframe tbody tr th:only-of-type {\n",
       "        vertical-align: middle;\n",
       "    }\n",
       "\n",
       "    .dataframe tbody tr th {\n",
       "        vertical-align: top;\n",
       "    }\n",
       "\n",
       "    .dataframe thead th {\n",
       "        text-align: right;\n",
       "    }\n",
       "</style>\n",
       "<table border=\"1\" class=\"dataframe\">\n",
       "  <thead>\n",
       "    <tr style=\"text-align: right;\">\n",
       "      <th></th>\n",
       "      <th>Year</th>\n",
       "      <th>Month</th>\n",
       "      <th>City</th>\n",
       "      <th>Temperature</th>\n",
       "      <th>Humidity</th>\n",
       "      <th>Wind Speed</th>\n",
       "      <th>Rainfall</th>\n",
       "    </tr>\n",
       "  </thead>\n",
       "  <tbody>\n",
       "    <tr>\n",
       "      <th>0</th>\n",
       "      <td>2021</td>\n",
       "      <td>7</td>\n",
       "      <td>Karaj</td>\n",
       "      <td>-9.0</td>\n",
       "      <td>73.0</td>\n",
       "      <td>12.3</td>\n",
       "      <td>0.0</td>\n",
       "    </tr>\n",
       "    <tr>\n",
       "      <th>1</th>\n",
       "      <td>2022</td>\n",
       "      <td>2</td>\n",
       "      <td>Isfahan</td>\n",
       "      <td>13.0</td>\n",
       "      <td>78.0</td>\n",
       "      <td>12.8</td>\n",
       "      <td>0.0</td>\n",
       "    </tr>\n",
       "    <tr>\n",
       "      <th>2</th>\n",
       "      <td>2021</td>\n",
       "      <td>9</td>\n",
       "      <td>Shiraz</td>\n",
       "      <td>-1.6</td>\n",
       "      <td>51.0</td>\n",
       "      <td>12.5</td>\n",
       "      <td>0.0</td>\n",
       "    </tr>\n",
       "    <tr>\n",
       "      <th>3</th>\n",
       "      <td>2023</td>\n",
       "      <td>12</td>\n",
       "      <td>Hamedan</td>\n",
       "      <td>43.6</td>\n",
       "      <td>39.0</td>\n",
       "      <td>9.8</td>\n",
       "      <td>0.0</td>\n",
       "    </tr>\n",
       "    <tr>\n",
       "      <th>4</th>\n",
       "      <td>2023</td>\n",
       "      <td>12</td>\n",
       "      <td>Kermanshah</td>\n",
       "      <td>39.4</td>\n",
       "      <td>55.0</td>\n",
       "      <td>13.0</td>\n",
       "      <td>0.0</td>\n",
       "    </tr>\n",
       "  </tbody>\n",
       "</table>\n",
       "</div>"
      ],
      "text/plain": [
       "   Year  Month        City  Temperature  Humidity  Wind Speed  Rainfall\n",
       "0  2021      7       Karaj         -9.0      73.0        12.3       0.0\n",
       "1  2022      2     Isfahan         13.0      78.0        12.8       0.0\n",
       "2  2021      9      Shiraz         -1.6      51.0        12.5       0.0\n",
       "3  2023     12     Hamedan         43.6      39.0         9.8       0.0\n",
       "4  2023     12  Kermanshah         39.4      55.0        13.0       0.0"
      ]
     },
     "execution_count": 2,
     "metadata": {},
     "output_type": "execute_result"
    }
   ],
   "source": [
    "import pandas as pd \n",
    "import matplotlib.pyplot as plt \n",
    "\n",
    "\n",
    "weatherData=pd.read_csv('weather.csv')\n",
    "\n",
    "weatherData.head()\n"
   ]
  },
  {
   "cell_type": "code",
   "execution_count": 3,
   "id": "e14eeaa9-62a3-46e4-98fa-b65f91944e78",
   "metadata": {},
   "outputs": [
    {
     "data": {
      "text/plain": [
       "(150000, 7)"
      ]
     },
     "execution_count": 3,
     "metadata": {},
     "output_type": "execute_result"
    }
   ],
   "source": [
    "weatherData.shape\n"
   ]
  },
  {
   "cell_type": "code",
   "execution_count": 4,
   "id": "bd30229c-baf6-4a7a-85a7-b92bb1cafb2b",
   "metadata": {},
   "outputs": [
    {
     "data": {
      "text/html": [
       "<div>\n",
       "<style scoped>\n",
       "    .dataframe tbody tr th:only-of-type {\n",
       "        vertical-align: middle;\n",
       "    }\n",
       "\n",
       "    .dataframe tbody tr th {\n",
       "        vertical-align: top;\n",
       "    }\n",
       "\n",
       "    .dataframe thead th {\n",
       "        text-align: right;\n",
       "    }\n",
       "</style>\n",
       "<table border=\"1\" class=\"dataframe\">\n",
       "  <thead>\n",
       "    <tr style=\"text-align: right;\">\n",
       "      <th></th>\n",
       "      <th>Year</th>\n",
       "      <th>Month</th>\n",
       "      <th>City</th>\n",
       "      <th>Temperature</th>\n",
       "      <th>Humidity</th>\n",
       "      <th>Wind Speed</th>\n",
       "      <th>Rainfall</th>\n",
       "    </tr>\n",
       "  </thead>\n",
       "  <tbody>\n",
       "    <tr>\n",
       "      <th>0</th>\n",
       "      <td>2021</td>\n",
       "      <td>7</td>\n",
       "      <td>Karaj</td>\n",
       "      <td>-9.0</td>\n",
       "      <td>73.0</td>\n",
       "      <td>12.3</td>\n",
       "      <td>0.0</td>\n",
       "    </tr>\n",
       "    <tr>\n",
       "      <th>1</th>\n",
       "      <td>2022</td>\n",
       "      <td>2</td>\n",
       "      <td>Isfahan</td>\n",
       "      <td>13.0</td>\n",
       "      <td>78.0</td>\n",
       "      <td>12.8</td>\n",
       "      <td>0.0</td>\n",
       "    </tr>\n",
       "    <tr>\n",
       "      <th>2</th>\n",
       "      <td>2021</td>\n",
       "      <td>9</td>\n",
       "      <td>Shiraz</td>\n",
       "      <td>-1.6</td>\n",
       "      <td>51.0</td>\n",
       "      <td>12.5</td>\n",
       "      <td>0.0</td>\n",
       "    </tr>\n",
       "    <tr>\n",
       "      <th>3</th>\n",
       "      <td>2023</td>\n",
       "      <td>12</td>\n",
       "      <td>Hamedan</td>\n",
       "      <td>43.6</td>\n",
       "      <td>39.0</td>\n",
       "      <td>9.8</td>\n",
       "      <td>0.0</td>\n",
       "    </tr>\n",
       "    <tr>\n",
       "      <th>4</th>\n",
       "      <td>2023</td>\n",
       "      <td>12</td>\n",
       "      <td>Kermanshah</td>\n",
       "      <td>39.4</td>\n",
       "      <td>55.0</td>\n",
       "      <td>13.0</td>\n",
       "      <td>0.0</td>\n",
       "    </tr>\n",
       "    <tr>\n",
       "      <th>...</th>\n",
       "      <td>...</td>\n",
       "      <td>...</td>\n",
       "      <td>...</td>\n",
       "      <td>...</td>\n",
       "      <td>...</td>\n",
       "      <td>...</td>\n",
       "      <td>...</td>\n",
       "    </tr>\n",
       "    <tr>\n",
       "      <th>149995</th>\n",
       "      <td>2023</td>\n",
       "      <td>10</td>\n",
       "      <td>Qom</td>\n",
       "      <td>11.5</td>\n",
       "      <td>28.0</td>\n",
       "      <td>11.9</td>\n",
       "      <td>0.0</td>\n",
       "    </tr>\n",
       "    <tr>\n",
       "      <th>149996</th>\n",
       "      <td>2022</td>\n",
       "      <td>6</td>\n",
       "      <td>Kermanshah</td>\n",
       "      <td>20.4</td>\n",
       "      <td>21.0</td>\n",
       "      <td>22.9</td>\n",
       "      <td>0.0</td>\n",
       "    </tr>\n",
       "    <tr>\n",
       "      <th>149997</th>\n",
       "      <td>2021</td>\n",
       "      <td>9</td>\n",
       "      <td>Ardabil</td>\n",
       "      <td>13.7</td>\n",
       "      <td>35.0</td>\n",
       "      <td>20.6</td>\n",
       "      <td>0.0</td>\n",
       "    </tr>\n",
       "    <tr>\n",
       "      <th>149998</th>\n",
       "      <td>2021</td>\n",
       "      <td>10</td>\n",
       "      <td>Karaj</td>\n",
       "      <td>-10.4</td>\n",
       "      <td>24.0</td>\n",
       "      <td>14.0</td>\n",
       "      <td>0.0</td>\n",
       "    </tr>\n",
       "    <tr>\n",
       "      <th>149999</th>\n",
       "      <td>2023</td>\n",
       "      <td>4</td>\n",
       "      <td>Kermanshah</td>\n",
       "      <td>19.3</td>\n",
       "      <td>62.0</td>\n",
       "      <td>17.3</td>\n",
       "      <td>0.0</td>\n",
       "    </tr>\n",
       "  </tbody>\n",
       "</table>\n",
       "<p>150000 rows × 7 columns</p>\n",
       "</div>"
      ],
      "text/plain": [
       "        Year  Month        City  Temperature  Humidity  Wind Speed  Rainfall\n",
       "0       2021      7       Karaj         -9.0      73.0        12.3       0.0\n",
       "1       2022      2     Isfahan         13.0      78.0        12.8       0.0\n",
       "2       2021      9      Shiraz         -1.6      51.0        12.5       0.0\n",
       "3       2023     12     Hamedan         43.6      39.0         9.8       0.0\n",
       "4       2023     12  Kermanshah         39.4      55.0        13.0       0.0\n",
       "...      ...    ...         ...          ...       ...         ...       ...\n",
       "149995  2023     10         Qom         11.5      28.0        11.9       0.0\n",
       "149996  2022      6  Kermanshah         20.4      21.0        22.9       0.0\n",
       "149997  2021      9     Ardabil         13.7      35.0        20.6       0.0\n",
       "149998  2021     10       Karaj        -10.4      24.0        14.0       0.0\n",
       "149999  2023      4  Kermanshah         19.3      62.0        17.3       0.0\n",
       "\n",
       "[150000 rows x 7 columns]"
      ]
     },
     "execution_count": 4,
     "metadata": {},
     "output_type": "execute_result"
    }
   ],
   "source": [
    "weatherData"
   ]
  },
  {
   "cell_type": "code",
   "execution_count": 5,
   "id": "59e38239-107a-492e-a666-e19bfb909f80",
   "metadata": {},
   "outputs": [
    {
     "data": {
      "text/html": [
       "<div>\n",
       "<style scoped>\n",
       "    .dataframe tbody tr th:only-of-type {\n",
       "        vertical-align: middle;\n",
       "    }\n",
       "\n",
       "    .dataframe tbody tr th {\n",
       "        vertical-align: top;\n",
       "    }\n",
       "\n",
       "    .dataframe thead th {\n",
       "        text-align: right;\n",
       "    }\n",
       "</style>\n",
       "<table border=\"1\" class=\"dataframe\">\n",
       "  <thead>\n",
       "    <tr style=\"text-align: right;\">\n",
       "      <th></th>\n",
       "      <th>Year</th>\n",
       "      <th>Month</th>\n",
       "      <th>Temperature</th>\n",
       "      <th>Humidity</th>\n",
       "      <th>Wind Speed</th>\n",
       "      <th>Rainfall</th>\n",
       "    </tr>\n",
       "  </thead>\n",
       "  <tbody>\n",
       "    <tr>\n",
       "      <th>count</th>\n",
       "      <td>150000.000000</td>\n",
       "      <td>150000.000000</td>\n",
       "      <td>148720.000000</td>\n",
       "      <td>147490.000000</td>\n",
       "      <td>146505.000000</td>\n",
       "      <td>143743.000000</td>\n",
       "    </tr>\n",
       "    <tr>\n",
       "      <th>mean</th>\n",
       "      <td>2022.001047</td>\n",
       "      <td>6.505400</td>\n",
       "      <td>15.031170</td>\n",
       "      <td>54.976642</td>\n",
       "      <td>12.475192</td>\n",
       "      <td>10.045106</td>\n",
       "    </tr>\n",
       "    <tr>\n",
       "      <th>std</th>\n",
       "      <td>0.817115</td>\n",
       "      <td>3.459799</td>\n",
       "      <td>17.331648</td>\n",
       "      <td>26.243239</td>\n",
       "      <td>7.230129</td>\n",
       "      <td>23.879449</td>\n",
       "    </tr>\n",
       "    <tr>\n",
       "      <th>min</th>\n",
       "      <td>2021.000000</td>\n",
       "      <td>1.000000</td>\n",
       "      <td>-15.000000</td>\n",
       "      <td>10.000000</td>\n",
       "      <td>0.000000</td>\n",
       "      <td>0.000000</td>\n",
       "    </tr>\n",
       "    <tr>\n",
       "      <th>25%</th>\n",
       "      <td>2021.000000</td>\n",
       "      <td>3.000000</td>\n",
       "      <td>-0.000000</td>\n",
       "      <td>32.000000</td>\n",
       "      <td>6.200000</td>\n",
       "      <td>0.000000</td>\n",
       "    </tr>\n",
       "    <tr>\n",
       "      <th>50%</th>\n",
       "      <td>2022.000000</td>\n",
       "      <td>7.000000</td>\n",
       "      <td>15.000000</td>\n",
       "      <td>55.000000</td>\n",
       "      <td>12.500000</td>\n",
       "      <td>0.000000</td>\n",
       "    </tr>\n",
       "    <tr>\n",
       "      <th>75%</th>\n",
       "      <td>2023.000000</td>\n",
       "      <td>10.000000</td>\n",
       "      <td>30.100000</td>\n",
       "      <td>78.000000</td>\n",
       "      <td>18.800000</td>\n",
       "      <td>0.000000</td>\n",
       "    </tr>\n",
       "    <tr>\n",
       "      <th>max</th>\n",
       "      <td>2023.000000</td>\n",
       "      <td>12.000000</td>\n",
       "      <td>45.000000</td>\n",
       "      <td>100.000000</td>\n",
       "      <td>25.000000</td>\n",
       "      <td>100.000000</td>\n",
       "    </tr>\n",
       "  </tbody>\n",
       "</table>\n",
       "</div>"
      ],
      "text/plain": [
       "                Year          Month    Temperature       Humidity  \\\n",
       "count  150000.000000  150000.000000  148720.000000  147490.000000   \n",
       "mean     2022.001047       6.505400      15.031170      54.976642   \n",
       "std         0.817115       3.459799      17.331648      26.243239   \n",
       "min      2021.000000       1.000000     -15.000000      10.000000   \n",
       "25%      2021.000000       3.000000      -0.000000      32.000000   \n",
       "50%      2022.000000       7.000000      15.000000      55.000000   \n",
       "75%      2023.000000      10.000000      30.100000      78.000000   \n",
       "max      2023.000000      12.000000      45.000000     100.000000   \n",
       "\n",
       "          Wind Speed       Rainfall  \n",
       "count  146505.000000  143743.000000  \n",
       "mean       12.475192      10.045106  \n",
       "std         7.230129      23.879449  \n",
       "min         0.000000       0.000000  \n",
       "25%         6.200000       0.000000  \n",
       "50%        12.500000       0.000000  \n",
       "75%        18.800000       0.000000  \n",
       "max        25.000000     100.000000  "
      ]
     },
     "execution_count": 5,
     "metadata": {},
     "output_type": "execute_result"
    }
   ],
   "source": [
    "weatherData.describe()"
   ]
  },
  {
   "cell_type": "code",
   "execution_count": 6,
   "id": "1a4e7bec-8596-4847-b5a3-5760932697f3",
   "metadata": {},
   "outputs": [
    {
     "data": {
      "text/plain": [
       "City\n",
       "Hamedan       10001\n",
       "Tabriz         9958\n",
       "Sanandaj       9906\n",
       "Karaj          9884\n",
       "Qom            9878\n",
       "Kermanshah     9874\n",
       "Isfahan        9842\n",
       "Mashhad        9836\n",
       "Ardabil        9833\n",
       "Yazd           9805\n",
       "Rasht          9779\n",
       "Tehran         9763\n",
       "Ahvaz          9728\n",
       "Urmia          9703\n",
       "Shiraz         9700\n",
       "Name: count, dtype: int64"
      ]
     },
     "execution_count": 6,
     "metadata": {},
     "output_type": "execute_result"
    }
   ],
   "source": [
    "weatherData['City'].value_counts()"
   ]
  },
  {
   "cell_type": "code",
   "execution_count": 7,
   "id": "df9fd974-b1bd-47f2-857f-998cba59228a",
   "metadata": {},
   "outputs": [
    {
     "data": {
      "text/plain": [
       "Year           False\n",
       "Month          False\n",
       "City            True\n",
       "Temperature     True\n",
       "Humidity        True\n",
       "Wind Speed      True\n",
       "Rainfall        True\n",
       "dtype: bool"
      ]
     },
     "execution_count": 7,
     "metadata": {},
     "output_type": "execute_result"
    }
   ],
   "source": [
    "weatherData.isna().any()"
   ]
  },
  {
   "cell_type": "code",
   "execution_count": 8,
   "id": "4e755705-04de-4b27-856d-78326af6977a",
   "metadata": {},
   "outputs": [
    {
     "data": {
      "text/plain": [
       "Year              0\n",
       "Month             0\n",
       "City           2510\n",
       "Temperature    1280\n",
       "Humidity       2510\n",
       "Wind Speed     3495\n",
       "Rainfall       6257\n",
       "dtype: int64"
      ]
     },
     "execution_count": 8,
     "metadata": {},
     "output_type": "execute_result"
    }
   ],
   "source": [
    "weatherData.isna().sum()"
   ]
  },
  {
   "cell_type": "code",
   "execution_count": 9,
   "id": "b15837d3-60f0-4299-83f3-882165c11d7a",
   "metadata": {},
   "outputs": [
    {
     "data": {
      "text/plain": [
       "16052"
      ]
     },
     "execution_count": 9,
     "metadata": {},
     "output_type": "execute_result"
    }
   ],
   "source": [
    "weatherData.isna().sum().sum()"
   ]
  },
  {
   "cell_type": "code",
   "execution_count": 10,
   "id": "5f36b76f-7e5d-4b05-afdb-f8a3c94dcff4",
   "metadata": {},
   "outputs": [],
   "source": [
    "weatherData['City']=weatherData['City'].fillna('UnKnown')"
   ]
  },
  {
   "cell_type": "code",
   "execution_count": 11,
   "id": "6e5953f5-2573-43ac-a542-5b7a7ea07b55",
   "metadata": {},
   "outputs": [
    {
     "data": {
      "text/plain": [
       "Year              0\n",
       "Month             0\n",
       "City              0\n",
       "Temperature    1280\n",
       "Humidity       2510\n",
       "Wind Speed     3495\n",
       "Rainfall       6257\n",
       "dtype: int64"
      ]
     },
     "execution_count": 11,
     "metadata": {},
     "output_type": "execute_result"
    }
   ],
   "source": [
    "weatherData.isna().sum()"
   ]
  },
  {
   "cell_type": "code",
   "execution_count": 12,
   "id": "16d4f1f3-f4b7-4a7e-b720-e1e5a43e8fc1",
   "metadata": {},
   "outputs": [
    {
     "data": {
      "text/plain": [
       "13542"
      ]
     },
     "execution_count": 12,
     "metadata": {},
     "output_type": "execute_result"
    }
   ],
   "source": [
    "weatherData.isna().sum().sum()"
   ]
  },
  {
   "cell_type": "code",
   "execution_count": 13,
   "id": "07539750-33fd-46ef-b970-1e0c47e60add",
   "metadata": {},
   "outputs": [],
   "source": [
    "weather_data_clean=weatherData.dropna(subset=['Temperature','Humidity','Rainfall'])"
   ]
  },
  {
   "cell_type": "code",
   "execution_count": 14,
   "id": "8bdc0991-c088-4f76-99c0-04b536943c1b",
   "metadata": {},
   "outputs": [
    {
     "data": {
      "text/plain": [
       "Year              0\n",
       "Month             0\n",
       "City              0\n",
       "Temperature       0\n",
       "Humidity          0\n",
       "Wind Speed     3278\n",
       "Rainfall          0\n",
       "dtype: int64"
      ]
     },
     "execution_count": 14,
     "metadata": {},
     "output_type": "execute_result"
    }
   ],
   "source": [
    "weather_data_clean.isna().sum()"
   ]
  },
  {
   "cell_type": "code",
   "execution_count": 15,
   "id": "816d7057-a299-4191-885f-4bf32c5cb2f4",
   "metadata": {},
   "outputs": [
    {
     "data": {
      "text/plain": [
       "3278"
      ]
     },
     "execution_count": 15,
     "metadata": {},
     "output_type": "execute_result"
    }
   ],
   "source": [
    "weather_data_clean.isna().sum().sum()"
   ]
  },
  {
   "cell_type": "code",
   "execution_count": 16,
   "id": "48680ada-552a-4f9b-b99a-14c44b0a1987",
   "metadata": {},
   "outputs": [
    {
     "data": {
      "text/plain": [
       "City\n",
       "Qom           10.317962\n",
       "Urmia         10.306699\n",
       "Tabriz        10.277582\n",
       "Ahvaz         10.253507\n",
       "Mashhad       10.188598\n",
       "Kermanshah    10.084150\n",
       "Tehran        10.060142\n",
       "Shiraz        10.011263\n",
       "Karaj          9.996750\n",
       "Sanandaj       9.976036\n",
       "Yazd           9.955178\n",
       "Isfahan        9.869164\n",
       "Rasht          9.866663\n",
       "Ardabil        9.688473\n",
       "Hamedan        9.607857\n",
       "Name: Rainfall, dtype: float64"
      ]
     },
     "execution_count": 16,
     "metadata": {},
     "output_type": "execute_result"
    }
   ],
   "source": [
    "Rainfall_Mean=weather_data_clean.groupby('City')['Rainfall'].mean().sort_values(ascending=False)\n",
    "Rainfall_Mean"
   ]
  },
  {
   "cell_type": "code",
   "execution_count": 17,
   "id": "4718decf-af86-4deb-abda-0b41b9a24ed6",
   "metadata": {},
   "outputs": [
    {
     "data": {
      "text/plain": [
       "City\n",
       "Hamedan        9.607857\n",
       "Ardabil        9.688473\n",
       "Rasht          9.866663\n",
       "Isfahan        9.869164\n",
       "Yazd           9.955178\n",
       "Sanandaj       9.976036\n",
       "Karaj          9.996750\n",
       "Shiraz        10.011263\n",
       "Tehran        10.060142\n",
       "Kermanshah    10.084150\n",
       "Mashhad       10.188598\n",
       "Ahvaz         10.253507\n",
       "Tabriz        10.277582\n",
       "Urmia         10.306699\n",
       "Qom           10.317962\n",
       "Name: Rainfall, dtype: float64"
      ]
     },
     "execution_count": 17,
     "metadata": {},
     "output_type": "execute_result"
    }
   ],
   "source": [
    "Rainfall_Mean=weather_data_clean.groupby('City')['Rainfall'].mean().sort_values(ascending=True)\n",
    "Rainfall_Mean"
   ]
  },
  {
   "cell_type": "code",
   "execution_count": 18,
   "id": "bf4df4ce-1cd0-41e6-8307-7810a3ea8263",
   "metadata": {},
   "outputs": [
    {
     "data": {
      "text/plain": [
       "City\n",
       "Qom        10.317962\n",
       "Urmia      10.306699\n",
       "Tabriz     10.277582\n",
       "Ahvaz      10.253507\n",
       "Mashhad    10.188598\n",
       "Name: Rainfall, dtype: float64"
      ]
     },
     "execution_count": 18,
     "metadata": {},
     "output_type": "execute_result"
    }
   ],
   "source": [
    "Rainfall_Mean=weather_data_clean.groupby('City')['Rainfall'].mean().sort_values(ascending=False)[:5]\n",
    "Rainfall_Mean"
   ]
  },
  {
   "cell_type": "code",
   "execution_count": 19,
   "id": "25c60329-9fd1-4102-9c36-31997847394c",
   "metadata": {},
   "outputs": [
    {
     "data": {
      "text/plain": [
       "City\n",
       "Hamedan    9.607857\n",
       "Ardabil    9.688473\n",
       "Rasht      9.866663\n",
       "Isfahan    9.869164\n",
       "Yazd       9.955178\n",
       "Name: Rainfall, dtype: float64"
      ]
     },
     "execution_count": 19,
     "metadata": {},
     "output_type": "execute_result"
    }
   ],
   "source": [
    "Rainfall_Mean=weather_data_clean.groupby('City')['Rainfall'].mean().sort_values(ascending=True)[:5]\n",
    "Rainfall_Mean"
   ]
  },
  {
   "cell_type": "code",
   "execution_count": 20,
   "id": "f1ff8a3d-4db3-4427-ac01-438dd04f9d7f",
   "metadata": {},
   "outputs": [
    {
     "data": {
      "text/plain": [
       "Month\n",
       "1     100.0\n",
       "2     100.0\n",
       "3     100.0\n",
       "4     100.0\n",
       "5     100.0\n",
       "6      99.9\n",
       "7     100.0\n",
       "8     100.0\n",
       "9     100.0\n",
       "10    100.0\n",
       "11    100.0\n",
       "12    100.0\n",
       "Name: Rainfall, dtype: float64"
      ]
     },
     "execution_count": 20,
     "metadata": {},
     "output_type": "execute_result"
    }
   ],
   "source": [
    "weather_data_clean.groupby('Month')['Rainfall'].max()"
   ]
  },
  {
   "cell_type": "code",
   "execution_count": 21,
   "id": "7a096e10-0cd7-47ec-92d1-0dd7ad5d81a9",
   "metadata": {},
   "outputs": [
    {
     "data": {
      "text/plain": [
       "Month\n",
       "1     0.0\n",
       "2     0.0\n",
       "3     0.0\n",
       "4     0.0\n",
       "5     0.0\n",
       "6     0.0\n",
       "7     0.0\n",
       "8     0.0\n",
       "9     0.0\n",
       "10    0.0\n",
       "11    0.0\n",
       "12    0.0\n",
       "Name: Rainfall, dtype: float64"
      ]
     },
     "execution_count": 21,
     "metadata": {},
     "output_type": "execute_result"
    }
   ],
   "source": [
    "weather_data_clean.groupby('Month')['Rainfall'].min()"
   ]
  },
  {
   "cell_type": "code",
   "execution_count": 22,
   "id": "e9f42045-82e5-41e6-a725-78be3746ce47",
   "metadata": {},
   "outputs": [
    {
     "data": {
      "text/plain": [
       "Year  Month\n",
       "2021  1         99.1\n",
       "      2        100.0\n",
       "      3        100.0\n",
       "      4        100.0\n",
       "      5         99.7\n",
       "      6         99.9\n",
       "      7         99.6\n",
       "      8        100.0\n",
       "      9        100.0\n",
       "      10        99.9\n",
       "      11        99.4\n",
       "      12        99.8\n",
       "2022  1        100.0\n",
       "      2         99.7\n",
       "      3         99.9\n",
       "      4         99.8\n",
       "      5         99.8\n",
       "      6         99.9\n",
       "      7        100.0\n",
       "      8         99.9\n",
       "      9         99.9\n",
       "      10        99.7\n",
       "      11        99.9\n",
       "      12       100.0\n",
       "2023  1        100.0\n",
       "      2        100.0\n",
       "      3         99.9\n",
       "      4        100.0\n",
       "      5        100.0\n",
       "      6         99.9\n",
       "      7         99.9\n",
       "      8         99.6\n",
       "      9         99.9\n",
       "      10       100.0\n",
       "      11       100.0\n",
       "      12        99.9\n",
       "Name: Rainfall, dtype: float64"
      ]
     },
     "execution_count": 22,
     "metadata": {},
     "output_type": "execute_result"
    }
   ],
   "source": [
    "rainfall_stats=weather_data_clean.groupby(['Year','Month'])['Rainfall'].max()\n",
    "rainfall_stats\n"
   ]
  },
  {
   "cell_type": "code",
   "execution_count": 23,
   "id": "1f990a3c-50ac-405d-a7a2-5b79523c8b37",
   "metadata": {},
   "outputs": [
    {
     "data": {
      "text/plain": [
       "Year  Month\n",
       "2021  1        0.0\n",
       "      2        0.0\n",
       "      3        0.0\n",
       "      4        0.0\n",
       "      5        0.0\n",
       "      6        0.0\n",
       "      7        0.0\n",
       "      8        0.0\n",
       "      9        0.0\n",
       "      10       0.0\n",
       "      11       0.0\n",
       "      12       0.0\n",
       "2022  1        0.0\n",
       "      2        0.0\n",
       "      3        0.0\n",
       "      4        0.0\n",
       "      5        0.0\n",
       "      6        0.0\n",
       "      7        0.0\n",
       "      8        0.0\n",
       "      9        0.0\n",
       "      10       0.0\n",
       "      11       0.0\n",
       "      12       0.0\n",
       "2023  1        0.0\n",
       "      2        0.0\n",
       "      3        0.0\n",
       "      4        0.0\n",
       "      5        0.0\n",
       "      6        0.0\n",
       "      7        0.0\n",
       "      8        0.0\n",
       "      9        0.0\n",
       "      10       0.0\n",
       "      11       0.0\n",
       "      12       0.0\n",
       "Name: Rainfall, dtype: float64"
      ]
     },
     "execution_count": 23,
     "metadata": {},
     "output_type": "execute_result"
    }
   ],
   "source": [
    "rainfall_stats=weather_data_clean.groupby(['Year','Month'])['Rainfall'].min()\n",
    "rainfall_stats"
   ]
  },
  {
   "cell_type": "code",
   "execution_count": 24,
   "id": "b47e4b13-5499-4a1c-8acc-e5db72188233",
   "metadata": {},
   "outputs": [
    {
     "data": {
      "text/html": [
       "<div>\n",
       "<style scoped>\n",
       "    .dataframe tbody tr th:only-of-type {\n",
       "        vertical-align: middle;\n",
       "    }\n",
       "\n",
       "    .dataframe tbody tr th {\n",
       "        vertical-align: top;\n",
       "    }\n",
       "\n",
       "    .dataframe thead th {\n",
       "        text-align: right;\n",
       "    }\n",
       "</style>\n",
       "<table border=\"1\" class=\"dataframe\">\n",
       "  <thead>\n",
       "    <tr style=\"text-align: right;\">\n",
       "      <th></th>\n",
       "      <th></th>\n",
       "      <th>Rainfall_min</th>\n",
       "      <th>Rainfall_max</th>\n",
       "    </tr>\n",
       "    <tr>\n",
       "      <th>Year</th>\n",
       "      <th>Month</th>\n",
       "      <th></th>\n",
       "      <th></th>\n",
       "    </tr>\n",
       "  </thead>\n",
       "  <tbody>\n",
       "    <tr>\n",
       "      <th rowspan=\"12\" valign=\"top\">2021</th>\n",
       "      <th>1</th>\n",
       "      <td>0.0</td>\n",
       "      <td>99.1</td>\n",
       "    </tr>\n",
       "    <tr>\n",
       "      <th>2</th>\n",
       "      <td>0.0</td>\n",
       "      <td>100.0</td>\n",
       "    </tr>\n",
       "    <tr>\n",
       "      <th>3</th>\n",
       "      <td>0.0</td>\n",
       "      <td>100.0</td>\n",
       "    </tr>\n",
       "    <tr>\n",
       "      <th>4</th>\n",
       "      <td>0.0</td>\n",
       "      <td>100.0</td>\n",
       "    </tr>\n",
       "    <tr>\n",
       "      <th>5</th>\n",
       "      <td>0.0</td>\n",
       "      <td>99.7</td>\n",
       "    </tr>\n",
       "    <tr>\n",
       "      <th>6</th>\n",
       "      <td>0.0</td>\n",
       "      <td>99.9</td>\n",
       "    </tr>\n",
       "    <tr>\n",
       "      <th>7</th>\n",
       "      <td>0.0</td>\n",
       "      <td>99.6</td>\n",
       "    </tr>\n",
       "    <tr>\n",
       "      <th>8</th>\n",
       "      <td>0.0</td>\n",
       "      <td>100.0</td>\n",
       "    </tr>\n",
       "    <tr>\n",
       "      <th>9</th>\n",
       "      <td>0.0</td>\n",
       "      <td>100.0</td>\n",
       "    </tr>\n",
       "    <tr>\n",
       "      <th>10</th>\n",
       "      <td>0.0</td>\n",
       "      <td>99.9</td>\n",
       "    </tr>\n",
       "    <tr>\n",
       "      <th>11</th>\n",
       "      <td>0.0</td>\n",
       "      <td>99.4</td>\n",
       "    </tr>\n",
       "    <tr>\n",
       "      <th>12</th>\n",
       "      <td>0.0</td>\n",
       "      <td>99.8</td>\n",
       "    </tr>\n",
       "    <tr>\n",
       "      <th rowspan=\"12\" valign=\"top\">2022</th>\n",
       "      <th>1</th>\n",
       "      <td>0.0</td>\n",
       "      <td>100.0</td>\n",
       "    </tr>\n",
       "    <tr>\n",
       "      <th>2</th>\n",
       "      <td>0.0</td>\n",
       "      <td>99.7</td>\n",
       "    </tr>\n",
       "    <tr>\n",
       "      <th>3</th>\n",
       "      <td>0.0</td>\n",
       "      <td>99.9</td>\n",
       "    </tr>\n",
       "    <tr>\n",
       "      <th>4</th>\n",
       "      <td>0.0</td>\n",
       "      <td>99.8</td>\n",
       "    </tr>\n",
       "    <tr>\n",
       "      <th>5</th>\n",
       "      <td>0.0</td>\n",
       "      <td>99.8</td>\n",
       "    </tr>\n",
       "    <tr>\n",
       "      <th>6</th>\n",
       "      <td>0.0</td>\n",
       "      <td>99.9</td>\n",
       "    </tr>\n",
       "    <tr>\n",
       "      <th>7</th>\n",
       "      <td>0.0</td>\n",
       "      <td>100.0</td>\n",
       "    </tr>\n",
       "    <tr>\n",
       "      <th>8</th>\n",
       "      <td>0.0</td>\n",
       "      <td>99.9</td>\n",
       "    </tr>\n",
       "    <tr>\n",
       "      <th>9</th>\n",
       "      <td>0.0</td>\n",
       "      <td>99.9</td>\n",
       "    </tr>\n",
       "    <tr>\n",
       "      <th>10</th>\n",
       "      <td>0.0</td>\n",
       "      <td>99.7</td>\n",
       "    </tr>\n",
       "    <tr>\n",
       "      <th>11</th>\n",
       "      <td>0.0</td>\n",
       "      <td>99.9</td>\n",
       "    </tr>\n",
       "    <tr>\n",
       "      <th>12</th>\n",
       "      <td>0.0</td>\n",
       "      <td>100.0</td>\n",
       "    </tr>\n",
       "    <tr>\n",
       "      <th rowspan=\"12\" valign=\"top\">2023</th>\n",
       "      <th>1</th>\n",
       "      <td>0.0</td>\n",
       "      <td>100.0</td>\n",
       "    </tr>\n",
       "    <tr>\n",
       "      <th>2</th>\n",
       "      <td>0.0</td>\n",
       "      <td>100.0</td>\n",
       "    </tr>\n",
       "    <tr>\n",
       "      <th>3</th>\n",
       "      <td>0.0</td>\n",
       "      <td>99.9</td>\n",
       "    </tr>\n",
       "    <tr>\n",
       "      <th>4</th>\n",
       "      <td>0.0</td>\n",
       "      <td>100.0</td>\n",
       "    </tr>\n",
       "    <tr>\n",
       "      <th>5</th>\n",
       "      <td>0.0</td>\n",
       "      <td>100.0</td>\n",
       "    </tr>\n",
       "    <tr>\n",
       "      <th>6</th>\n",
       "      <td>0.0</td>\n",
       "      <td>99.9</td>\n",
       "    </tr>\n",
       "    <tr>\n",
       "      <th>7</th>\n",
       "      <td>0.0</td>\n",
       "      <td>99.9</td>\n",
       "    </tr>\n",
       "    <tr>\n",
       "      <th>8</th>\n",
       "      <td>0.0</td>\n",
       "      <td>99.6</td>\n",
       "    </tr>\n",
       "    <tr>\n",
       "      <th>9</th>\n",
       "      <td>0.0</td>\n",
       "      <td>99.9</td>\n",
       "    </tr>\n",
       "    <tr>\n",
       "      <th>10</th>\n",
       "      <td>0.0</td>\n",
       "      <td>100.0</td>\n",
       "    </tr>\n",
       "    <tr>\n",
       "      <th>11</th>\n",
       "      <td>0.0</td>\n",
       "      <td>100.0</td>\n",
       "    </tr>\n",
       "    <tr>\n",
       "      <th>12</th>\n",
       "      <td>0.0</td>\n",
       "      <td>99.9</td>\n",
       "    </tr>\n",
       "  </tbody>\n",
       "</table>\n",
       "</div>"
      ],
      "text/plain": [
       "            Rainfall_min  Rainfall_max\n",
       "Year Month                            \n",
       "2021 1               0.0          99.1\n",
       "     2               0.0         100.0\n",
       "     3               0.0         100.0\n",
       "     4               0.0         100.0\n",
       "     5               0.0          99.7\n",
       "     6               0.0          99.9\n",
       "     7               0.0          99.6\n",
       "     8               0.0         100.0\n",
       "     9               0.0         100.0\n",
       "     10              0.0          99.9\n",
       "     11              0.0          99.4\n",
       "     12              0.0          99.8\n",
       "2022 1               0.0         100.0\n",
       "     2               0.0          99.7\n",
       "     3               0.0          99.9\n",
       "     4               0.0          99.8\n",
       "     5               0.0          99.8\n",
       "     6               0.0          99.9\n",
       "     7               0.0         100.0\n",
       "     8               0.0          99.9\n",
       "     9               0.0          99.9\n",
       "     10              0.0          99.7\n",
       "     11              0.0          99.9\n",
       "     12              0.0         100.0\n",
       "2023 1               0.0         100.0\n",
       "     2               0.0         100.0\n",
       "     3               0.0          99.9\n",
       "     4               0.0         100.0\n",
       "     5               0.0         100.0\n",
       "     6               0.0          99.9\n",
       "     7               0.0          99.9\n",
       "     8               0.0          99.6\n",
       "     9               0.0          99.9\n",
       "     10              0.0         100.0\n",
       "     11              0.0         100.0\n",
       "     12              0.0          99.9"
      ]
     },
     "execution_count": 24,
     "metadata": {},
     "output_type": "execute_result"
    }
   ],
   "source": [
    "rainfall_stats=weather_data_clean.groupby(['Year','Month']).aggregate(Rainfall_min=('Rainfall','min'),Rainfall_max=('Rainfall','max'))\n",
    "rainfall_stats"
   ]
  },
  {
   "cell_type": "code",
   "execution_count": 59,
   "id": "94931e5a-9079-4775-b449-49b403491f2c",
   "metadata": {},
   "outputs": [
    {
     "data": {
      "text/plain": [
       "City     Year  Month\n",
       "Ahvaz    2021  1        15.759924\n",
       "               2        16.925292\n",
       "               3        14.922182\n",
       "               4        15.258594\n",
       "               5        17.934926\n",
       "               6        13.718504\n",
       "               7        14.562500\n",
       "               8        14.664981\n",
       "               9        17.139749\n",
       "               10       14.453252\n",
       "               11       15.296538\n",
       "               12       16.070769\n",
       "         2022  1        13.893307\n",
       "               2        14.823358\n",
       "               3        15.042188\n",
       "               4        15.505929\n",
       "               5        14.386590\n",
       "               6        15.143182\n",
       "               7        16.698367\n",
       "               8        13.468016\n",
       "               9        14.583333\n",
       "               10       15.300000\n",
       "               11       15.059004\n",
       "               12       15.166058\n",
       "         2023  1        15.269960\n",
       "               2        14.987190\n",
       "               3        14.440161\n",
       "               4        15.129268\n",
       "               5        15.523750\n",
       "               6        15.108880\n",
       "               7        16.144706\n",
       "               8        16.553208\n",
       "               9        12.792000\n",
       "               10       15.858300\n",
       "               11       15.599593\n",
       "               12       15.576471\n",
       "Ardabil  2021  1        15.228231\n",
       "               2        13.486940\n",
       "               3        16.175093\n",
       "               4        14.599203\n",
       "               5        14.942045\n",
       "               6        16.420158\n",
       "               7        15.778667\n",
       "               8        13.255185\n",
       "               9        14.750617\n",
       "               10       16.567600\n",
       "               11       15.780162\n",
       "               12       14.507554\n",
       "         2022  1        15.846245\n",
       "               2        13.444488\n",
       "Name: Temperature, dtype: float64"
      ]
     },
     "execution_count": 59,
     "metadata": {},
     "output_type": "execute_result"
    }
   ],
   "source": [
    "grouped = weather_data_clean.groupby(['City','Year','Month'])['Temperature'].mean()[:50]\n",
    "grouped"
   ]
  },
  {
   "cell_type": "code",
   "execution_count": null,
   "id": "c3b08d12-e838-41e9-b0a3-818dea707797",
   "metadata": {},
   "outputs": [],
   "source": []
  },
  {
   "cell_type": "code",
   "execution_count": 27,
   "id": "2c39db94-d2e7-4483-b498-faa1ad6da3e2",
   "metadata": {},
   "outputs": [
    {
     "data": {
      "text/html": [
       "<div>\n",
       "<style scoped>\n",
       "    .dataframe tbody tr th:only-of-type {\n",
       "        vertical-align: middle;\n",
       "    }\n",
       "\n",
       "    .dataframe tbody tr th {\n",
       "        vertical-align: top;\n",
       "    }\n",
       "\n",
       "    .dataframe thead th {\n",
       "        text-align: right;\n",
       "    }\n",
       "</style>\n",
       "<table border=\"1\" class=\"dataframe\">\n",
       "  <thead>\n",
       "    <tr style=\"text-align: right;\">\n",
       "      <th></th>\n",
       "      <th>Year</th>\n",
       "      <th>Month</th>\n",
       "      <th>City</th>\n",
       "      <th>Temperature</th>\n",
       "      <th>Humidity</th>\n",
       "      <th>Wind Speed</th>\n",
       "      <th>Rainfall</th>\n",
       "    </tr>\n",
       "  </thead>\n",
       "  <tbody>\n",
       "    <tr>\n",
       "      <th>41</th>\n",
       "      <td>2022</td>\n",
       "      <td>6</td>\n",
       "      <td>Tehran</td>\n",
       "      <td>19.5</td>\n",
       "      <td>34.0</td>\n",
       "      <td>6.5</td>\n",
       "      <td>0.0</td>\n",
       "    </tr>\n",
       "    <tr>\n",
       "      <th>48</th>\n",
       "      <td>2022</td>\n",
       "      <td>8</td>\n",
       "      <td>Tehran</td>\n",
       "      <td>41.1</td>\n",
       "      <td>58.0</td>\n",
       "      <td>21.6</td>\n",
       "      <td>0.0</td>\n",
       "    </tr>\n",
       "    <tr>\n",
       "      <th>50</th>\n",
       "      <td>2022</td>\n",
       "      <td>7</td>\n",
       "      <td>Tehran</td>\n",
       "      <td>6.3</td>\n",
       "      <td>54.0</td>\n",
       "      <td>20.9</td>\n",
       "      <td>40.6</td>\n",
       "    </tr>\n",
       "    <tr>\n",
       "      <th>141</th>\n",
       "      <td>2022</td>\n",
       "      <td>10</td>\n",
       "      <td>Tehran</td>\n",
       "      <td>39.4</td>\n",
       "      <td>100.0</td>\n",
       "      <td>18.4</td>\n",
       "      <td>99.6</td>\n",
       "    </tr>\n",
       "    <tr>\n",
       "      <th>188</th>\n",
       "      <td>2022</td>\n",
       "      <td>12</td>\n",
       "      <td>Tehran</td>\n",
       "      <td>19.7</td>\n",
       "      <td>60.0</td>\n",
       "      <td>6.5</td>\n",
       "      <td>0.0</td>\n",
       "    </tr>\n",
       "    <tr>\n",
       "      <th>...</th>\n",
       "      <td>...</td>\n",
       "      <td>...</td>\n",
       "      <td>...</td>\n",
       "      <td>...</td>\n",
       "      <td>...</td>\n",
       "      <td>...</td>\n",
       "      <td>...</td>\n",
       "    </tr>\n",
       "    <tr>\n",
       "      <th>149845</th>\n",
       "      <td>2022</td>\n",
       "      <td>7</td>\n",
       "      <td>Tehran</td>\n",
       "      <td>7.8</td>\n",
       "      <td>64.0</td>\n",
       "      <td>6.3</td>\n",
       "      <td>0.0</td>\n",
       "    </tr>\n",
       "    <tr>\n",
       "      <th>149936</th>\n",
       "      <td>2022</td>\n",
       "      <td>11</td>\n",
       "      <td>Tehran</td>\n",
       "      <td>0.7</td>\n",
       "      <td>77.0</td>\n",
       "      <td>20.3</td>\n",
       "      <td>0.0</td>\n",
       "    </tr>\n",
       "    <tr>\n",
       "      <th>149937</th>\n",
       "      <td>2022</td>\n",
       "      <td>1</td>\n",
       "      <td>Tehran</td>\n",
       "      <td>-3.3</td>\n",
       "      <td>72.0</td>\n",
       "      <td>16.9</td>\n",
       "      <td>0.0</td>\n",
       "    </tr>\n",
       "    <tr>\n",
       "      <th>149946</th>\n",
       "      <td>2022</td>\n",
       "      <td>7</td>\n",
       "      <td>Tehran</td>\n",
       "      <td>-3.2</td>\n",
       "      <td>98.0</td>\n",
       "      <td>6.9</td>\n",
       "      <td>35.3</td>\n",
       "    </tr>\n",
       "    <tr>\n",
       "      <th>149972</th>\n",
       "      <td>2022</td>\n",
       "      <td>12</td>\n",
       "      <td>Tehran</td>\n",
       "      <td>-10.1</td>\n",
       "      <td>42.0</td>\n",
       "      <td>6.2</td>\n",
       "      <td>67.8</td>\n",
       "    </tr>\n",
       "  </tbody>\n",
       "</table>\n",
       "<p>3039 rows × 7 columns</p>\n",
       "</div>"
      ],
      "text/plain": [
       "        Year  Month    City  Temperature  Humidity  Wind Speed  Rainfall\n",
       "41      2022      6  Tehran         19.5      34.0         6.5       0.0\n",
       "48      2022      8  Tehran         41.1      58.0        21.6       0.0\n",
       "50      2022      7  Tehran          6.3      54.0        20.9      40.6\n",
       "141     2022     10  Tehran         39.4     100.0        18.4      99.6\n",
       "188     2022     12  Tehran         19.7      60.0         6.5       0.0\n",
       "...      ...    ...     ...          ...       ...         ...       ...\n",
       "149845  2022      7  Tehran          7.8      64.0         6.3       0.0\n",
       "149936  2022     11  Tehran          0.7      77.0        20.3       0.0\n",
       "149937  2022      1  Tehran         -3.3      72.0        16.9       0.0\n",
       "149946  2022      7  Tehran         -3.2      98.0         6.9      35.3\n",
       "149972  2022     12  Tehran        -10.1      42.0         6.2      67.8\n",
       "\n",
       "[3039 rows x 7 columns]"
      ]
     },
     "execution_count": 27,
     "metadata": {},
     "output_type": "execute_result"
    }
   ],
   "source": [
    "tehran_2022_data=weather_data_clean[(weather_data_clean['City']=='Tehran') & (weather_data_clean['Year']==2022)]\n",
    "tehran_2022_data"
   ]
  },
  {
   "cell_type": "code",
   "execution_count": 28,
   "id": "08649c98-b343-4ec2-93de-90a06534bc38",
   "metadata": {},
   "outputs": [
    {
     "data": {
      "text/plain": [
       "Month\n",
       "1     16.256923\n",
       "2     13.669318\n",
       "3     16.424291\n",
       "4     15.031061\n",
       "5     14.833469\n",
       "6     13.836398\n",
       "7     13.704651\n",
       "8     13.493676\n",
       "9     17.204721\n",
       "10    14.727386\n",
       "11    14.059761\n",
       "12    16.771756\n",
       "Name: Temperature, dtype: float64"
      ]
     },
     "execution_count": 28,
     "metadata": {},
     "output_type": "execute_result"
    }
   ],
   "source": [
    "monthly_avg_temps=tehran_2022_data.groupby('Month')['Temperature'].mean()\n",
    "monthly_avg_temps\n"
   ]
  },
  {
   "cell_type": "code",
   "execution_count": 29,
   "id": "55e10794-97f8-41da-9eb9-12768f7196c3",
   "metadata": {},
   "outputs": [
    {
     "name": "stderr",
     "output_type": "stream",
     "text": [
      "/var/folders/t4/hq0wsdy52cn8hw6l92l0zycr0000gn/T/ipykernel_13691/3045615742.py:12: SettingWithCopyWarning: \n",
      "A value is trying to be set on a copy of a slice from a DataFrame.\n",
      "Try using .loc[row_indexer,col_indexer] = value instead\n",
      "\n",
      "See the caveats in the documentation: https://pandas.pydata.org/pandas-docs/stable/user_guide/indexing.html#returning-a-view-versus-a-copy\n",
      "  weather_data_clean['Season']=weather_data_clean['Month'].apply(month_to_season)\n"
     ]
    },
    {
     "data": {
      "text/html": [
       "<div>\n",
       "<style scoped>\n",
       "    .dataframe tbody tr th:only-of-type {\n",
       "        vertical-align: middle;\n",
       "    }\n",
       "\n",
       "    .dataframe tbody tr th {\n",
       "        vertical-align: top;\n",
       "    }\n",
       "\n",
       "    .dataframe thead th {\n",
       "        text-align: right;\n",
       "    }\n",
       "</style>\n",
       "<table border=\"1\" class=\"dataframe\">\n",
       "  <thead>\n",
       "    <tr style=\"text-align: right;\">\n",
       "      <th></th>\n",
       "      <th>Temperature</th>\n",
       "      <th>Humidity</th>\n",
       "      <th>Rainfall</th>\n",
       "    </tr>\n",
       "    <tr>\n",
       "      <th>Season</th>\n",
       "      <th></th>\n",
       "      <th></th>\n",
       "      <th></th>\n",
       "    </tr>\n",
       "  </thead>\n",
       "  <tbody>\n",
       "    <tr>\n",
       "      <th>Autumn</th>\n",
       "      <td>15.034776</td>\n",
       "      <td>54.893786</td>\n",
       "      <td>9.902591</td>\n",
       "    </tr>\n",
       "    <tr>\n",
       "      <th>Spring</th>\n",
       "      <td>15.016608</td>\n",
       "      <td>54.847363</td>\n",
       "      <td>10.113409</td>\n",
       "    </tr>\n",
       "    <tr>\n",
       "      <th>Summer</th>\n",
       "      <td>15.031661</td>\n",
       "      <td>55.116208</td>\n",
       "      <td>9.915954</td>\n",
       "    </tr>\n",
       "    <tr>\n",
       "      <th>Winter</th>\n",
       "      <td>15.027868</td>\n",
       "      <td>55.011160</td>\n",
       "      <td>10.187409</td>\n",
       "    </tr>\n",
       "  </tbody>\n",
       "</table>\n",
       "</div>"
      ],
      "text/plain": [
       "        Temperature   Humidity   Rainfall\n",
       "Season                                   \n",
       "Autumn    15.034776  54.893786   9.902591\n",
       "Spring    15.016608  54.847363  10.113409\n",
       "Summer    15.031661  55.116208   9.915954\n",
       "Winter    15.027868  55.011160  10.187409"
      ]
     },
     "execution_count": 29,
     "metadata": {},
     "output_type": "execute_result"
    }
   ],
   "source": [
    "def month_to_season(month):\n",
    "\n",
    "    if month in [1,2,3]:\n",
    "     return 'Spring'\n",
    "    elif  month in [4,5,6]:\n",
    "     return 'Summer'\n",
    "    elif  month in [7,8,9]:\n",
    "     return 'Autumn'\n",
    "    elif  month in [10,11,12]:\n",
    "     return 'Winter'\n",
    "\n",
    "weather_data_clean['Season']=weather_data_clean['Month'].apply(month_to_season)\n",
    "seasonal_averages=weather_data_clean.groupby('Season')[['Temperature','Humidity','Rainfall']].mean()\n",
    "seasonal_averages\n"
   ]
  },
  {
   "cell_type": "code",
   "execution_count": 30,
   "id": "04de6992-7b34-475f-943d-638b243fb54c",
   "metadata": {},
   "outputs": [
    {
     "data": {
      "image/png": "[encoded data removed]",
      "text/plain": [
       "<Figure size 1000x500 with 1 Axes>"
      ]
     },
     "metadata": {},
     "output_type": "display_data"
    }
   ],
   "source": [
    "tehran_data=weather_data_clean[weather_data_clean['City']=='Tehran']\n",
    "monthly_avg_temperature=tehran_data.groupby('Month')['Temperature'].mean()\n",
    "\n",
    "plt.figure(figsize=(10, 5))\n",
    "plt.plot(monthly_avg_temperature.index, monthly_avg_temperature.values, marker='*', linestyle='--', color='b')\n",
    "plt.title('Monthly Average Temperature in Tehran')\n",
    "plt.xlabel('Month')\n",
    "plt.ylabel('Average Temperature (°C)')\n",
    "plt.xticks(monthly_avg_temperature.index, ['Jan', 'Feb', 'Mar', 'Apr', 'May', 'Jun', 'Jul', 'Aug', 'Sep', 'Oct', 'Nov', 'Dec'])\n",
    "plt.grid(True)\n",
    "plt.show()\n"
   ]
  },
  {
   "cell_type": "code",
   "execution_count": 32,
   "id": "4111f6f1-e7e3-4413-b14e-8767b2726f80",
   "metadata": {},
   "outputs": [
    {
     "data": {
      "text/plain": [
       "City\n",
       "Ahvaz         10.253507\n",
       "Ardabil        9.688473\n",
       "Hamedan        9.607857\n",
       "Isfahan        9.869164\n",
       "Karaj          9.996750\n",
       "Kermanshah    10.084150\n",
       "Mashhad       10.188598\n",
       "Qom           10.317962\n",
       "Rasht          9.866663\n",
       "Sanandaj       9.976036\n",
       "Shiraz        10.011263\n",
       "Tabriz        10.277582\n",
       "Tehran        10.060142\n",
       "Urmia         10.306699\n",
       "Yazd           9.955178\n",
       "Name: Rainfall, dtype: float64"
      ]
     },
     "execution_count": 32,
     "metadata": {},
     "output_type": "execute_result"
    }
   ],
   "source": [
    "city_rainfall=weather_data_clean.groupby('City')['Rainfall'].mean()\n",
    "city_rainfall"
   ]
  },
  {
   "cell_type": "code",
   "execution_count": 35,
   "id": "a2a5ae69-dbc3-45f3-8319-83c0272afa4c",
   "metadata": {},
   "outputs": [
    {
     "data": {
      "text/plain": [
       "<BarContainer object of 15 artists>"
      ]
     },
     "execution_count": 35,
     "metadata": {},
     "output_type": "execute_result"
    },
    {
     "data": {
      "image/png": "[encoded data removed]",
      "text/plain": [
       "<Figure size 2000x600 with 1 Axes>"
      ]
     },
     "metadata": {},
     "output_type": "display_data"
    }
   ],
   "source": [
    "plt.figure(figsize=(20,6))\n",
    "plt.bar(city_rainfall.index,city_rainfall.values)"
   ]
  },
  {
   "cell_type": "code",
   "execution_count": 37,
   "id": "ee6a535c-98de-4149-9d7e-135d12a4f786",
   "metadata": {},
   "outputs": [
    {
     "data": {
      "text/plain": [
       "([<matplotlib.patches.Wedge at 0x120569bd0>,\n",
       "  <matplotlib.patches.Wedge at 0x12006a350>,\n",
       "  <matplotlib.patches.Wedge at 0x12051e910>,\n",
       "  <matplotlib.patches.Wedge at 0x12051f110>,\n",
       "  <matplotlib.patches.Wedge at 0x11fea7450>,\n",
       "  <matplotlib.patches.Wedge at 0x120573e90>,\n",
       "  <matplotlib.patches.Wedge at 0x12057b9d0>,\n",
       "  <matplotlib.patches.Wedge at 0x12057fd90>,\n",
       "  <matplotlib.patches.Wedge at 0x120583f90>,\n",
       "  <matplotlib.patches.Wedge at 0x120573890>,\n",
       "  <matplotlib.patches.Wedge at 0x1205938d0>,\n",
       "  <matplotlib.patches.Wedge at 0x1205978d0>],\n",
       " [Text(1.0610759522789546, 0.29003072853632234, '1'),\n",
       "  Text(0.7716581335069054, 0.7839283927710738, '2'),\n",
       "  Text(0.2746734440845181, 1.0651546831867893, '3'),\n",
       "  Text(-0.2968506819069639, 1.0591882139881328, '4'),\n",
       "  Text(-0.783642779478731, 0.7719481810140167, '5'),\n",
       "  Text(-1.0625973064921241, 0.2844063364900349, '6'),\n",
       "  Text(-1.0647984373663564, -0.2760512412255487, '7'),\n",
       "  Text(-0.787613895985244, -0.7678960547176588, '8'),\n",
       "  Text(-0.30500552127043745, -1.056868786555147, '9'),\n",
       "  Text(0.2577716620703213, -1.0693707356354503, '10'),\n",
       "  Text(0.7674702499782295, -0.788028816350236, '11'),\n",
       "  Text(1.0624542396295027, -0.2849403247932726, '12')],\n",
       " [Text(0.578768701243066, 0.15819857920163033, '8.5%'),\n",
       "  Text(0.420904436458312, 0.42759730514785843, '8.3%'),\n",
       "  Text(0.14982187859155532, 0.5809934635564304, '8.5%'),\n",
       "  Text(-0.16191855376743483, 0.5777390258117088, '8.3%'),\n",
       "  Text(-0.42744151607930775, 0.42106264418946365, '8.3%'),\n",
       "  Text(-0.5795985308138859, 0.15513072899456448, '8.2%'),\n",
       "  Text(-0.5807991476543761, -0.15057340430484473, '8.2%'),\n",
       "  Text(-0.4296075796283149, -0.41885239348235925, '8.3%'),\n",
       "  Text(-0.16636664796569314, -0.5764738835755346, '8.2%'),\n",
       "  Text(0.1406027247656298, -0.5832931285284274, '8.3%'),\n",
       "  Text(0.41862013635176154, -0.42983389982740144, '8.7%'),\n",
       "  Text(0.5795204943433651, -0.15542199534178502, '8.3%')])"
      ]
     },
     "execution_count": 37,
     "metadata": {},
     "output_type": "execute_result"
    },
    {
     "data": {
      "image/png": "[encoded data removed]",
      "text/plain": [
       "<Figure size 640x480 with 1 Axes>"
      ]
     },
     "metadata": {},
     "output_type": "display_data"
    }
   ],
   "source": [
    "month_rainfall=weather_data_clean.groupby('Month')['Rainfall'].mean()\n",
    "plt.pie(month_rainfall.values,labels=month_rainfall.index,autopct='%1.1f%%') "
   ]
  },
  {
   "cell_type": "code",
   "execution_count": 50,
   "id": "a41b86f7-1d5f-4050-b5a8-3349be66ff0d",
   "metadata": {},
   "outputs": [
    {
     "data": {
      "text/plain": [
       "<matplotlib.collections.PathCollection at 0x122815a90>"
      ]
     },
     "execution_count": 50,
     "metadata": {},
     "output_type": "execute_result"
    },
    {
     "data": {
      "image/png": "[encoded data removed]",
      "text/plain": [
       "<Figure size 640x480 with 1 Axes>"
      ]
     },
     "metadata": {},
     "output_type": "display_data"
    }
   ],
   "source": [
    "plt.scatter(weather_data_clean['Humidity'][:500],weather_data_clean['Temperature'][:500],c='blue')\n"
   ]
  },
  {
   "cell_type": "code",
   "execution_count": 58,
   "id": "dda52b09-56a3-4777-8130-cf30a7673792",
   "metadata": {},
   "outputs": [
    {
     "data": {
      "text/plain": [
       "City\n",
       "Ahvaz         14.914175\n",
       "Ardabil       14.857157\n",
       "Hamedan       15.555995\n",
       "Isfahan       15.164313\n",
       "Karaj         14.641912\n",
       "Kermanshah    15.036102\n",
       "Mashhad       15.197362\n",
       "Qom           15.342688\n",
       "Rasht         14.779556\n",
       "Sanandaj      15.646212\n",
       "Shiraz        14.410010\n",
       "Tabriz        15.027506\n",
       "Tehran        14.984172\n",
       "Urmia         15.422431\n",
       "Yazd          15.096955\n",
       "Name: Temperature, dtype: float64"
      ]
     },
     "execution_count": 58,
     "metadata": {},
     "output_type": "execute_result"
    }
   ],
   "source": [
    "result =weather_data_clean.groupby(['Year','City'])['Temperature'].mean()\n",
    "result.loc[2022]"
   ]
  },
  {
   "cell_type": "code",
   "execution_count": 57,
   "id": "85e80b46-2579-46f9-ab7e-7c210074382f",
   "metadata": {},
   "outputs": [
    {
     "data": {
      "text/plain": [
       "(array([1., 1., 1., 1., 3., 2., 2., 1., 1., 2.]),\n",
       " array([14.41000959, 14.53362985, 14.6572501 , 14.78087035, 14.9044906 ,\n",
       "        15.02811086, 15.15173111, 15.27535136, 15.39897162, 15.52259187,\n",
       "        15.64621212]),\n",
       " <BarContainer object of 10 artists>)"
      ]
     },
     "execution_count": 57,
     "metadata": {},
     "output_type": "execute_result"
    },
    {
     "data": {
      "image/png": "[encoded data removed]",
      "text/plain": [
       "<Figure size 640x480 with 1 Axes>"
      ]
     },
     "metadata": {},
     "output_type": "display_data"
    }
   ],
   "source": [
    "plt.hist(result.loc[2022],bins=10,color='blue', alpha=0.7, edgecolor='black')"
   ]
  },
  {
   "cell_type": "code",
   "execution_count": null,
   "id": "e97a8ec3-8f4a-4c45-8b14-7fd862fc789b",
   "metadata": {},
   "outputs": [],
   "source": []
  }
 ],
 "metadata": {
  "kernelspec": {
   "display_name": "Python 3 (ipykernel)",
   "language": "python",
   "name": "python3"
  },
  "language_info": {
   "codemirror_mode": {
    "name": "ipython",
    "version": 3
   },
   "file_extension": ".py",
   "mimetype": "text/x-python",
   "name": "python",
   "nbconvert_exporter": "python",
   "pygments_lexer": "ipython3",
   "version": "3.11.9"
  }
 },
 "nbformat": 4,
 "nbformat_minor": 5
}
