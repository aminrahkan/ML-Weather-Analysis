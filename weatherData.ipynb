{
 "cells": [
  {
   "cell_type": "code",
   "execution_count": 2,
   "id": "1366478f-d30a-4d45-8961-6224729dd32f",
   "metadata": {},
   "outputs": [
    {
     "data": {
      "text/html": [
       "<div>\n",
       "<style scoped>\n",
       "    .dataframe tbody tr th:only-of-type {\n",
       "        vertical-align: middle;\n",
       "    }\n",
       "\n",
       "    .dataframe tbody tr th {\n",
       "        vertical-align: top;\n",
       "    }\n",
       "\n",
       "    .dataframe thead th {\n",
       "        text-align: right;\n",
       "    }\n",
       "</style>\n",
       "<table border=\"1\" class=\"dataframe\">\n",
       "  <thead>\n",
       "    <tr style=\"text-align: right;\">\n",
       "      <th></th>\n",
       "      <th>Year</th>\n",
       "      <th>Month</th>\n",
       "      <th>City</th>\n",
       "      <th>Temperature</th>\n",
       "      <th>Humidity</th>\n",
       "      <th>Wind Speed</th>\n",
       "      <th>Rainfall</th>\n",
       "    </tr>\n",
       "  </thead>\n",
       "  <tbody>\n",
       "    <tr>\n",
       "      <th>0</th>\n",
       "      <td>2021</td>\n",
       "      <td>7</td>\n",
       "      <td>Karaj</td>\n",
       "      <td>-9.0</td>\n",
       "      <td>73.0</td>\n",
       "      <td>12.3</td>\n",
       "      <td>0.0</td>\n",
       "    </tr>\n",
       "    <tr>\n",
       "      <th>1</th>\n",
       "      <td>2022</td>\n",
       "      <td>2</td>\n",
       "      <td>Isfahan</td>\n",
       "      <td>13.0</td>\n",
       "      <td>78.0</td>\n",
       "      <td>12.8</td>\n",
       "      <td>0.0</td>\n",
       "    </tr>\n",
       "    <tr>\n",
       "      <th>2</th>\n",
       "      <td>2021</td>\n",
       "      <td>9</td>\n",
       "      <td>Shiraz</td>\n",
       "      <td>-1.6</td>\n",
       "      <td>51.0</td>\n",
       "      <td>12.5</td>\n",
       "      <td>0.0</td>\n",
       "    </tr>\n",
       "    <tr>\n",
       "      <th>3</th>\n",
       "      <td>2023</td>\n",
       "      <td>12</td>\n",
       "      <td>Hamedan</td>\n",
       "      <td>43.6</td>\n",
       "      <td>39.0</td>\n",
       "      <td>9.8</td>\n",
       "      <td>0.0</td>\n",
       "    </tr>\n",
       "    <tr>\n",
       "      <th>4</th>\n",
       "      <td>2023</td>\n",
       "      <td>12</td>\n",
       "      <td>Kermanshah</td>\n",
       "      <td>39.4</td>\n",
       "      <td>55.0</td>\n",
       "      <td>13.0</td>\n",
       "      <td>0.0</td>\n",
       "    </tr>\n",
       "  </tbody>\n",
       "</table>\n",
       "</div>"
      ],
      "text/plain": [
       "   Year  Month        City  Temperature  Humidity  Wind Speed  Rainfall\n",
       "0  2021      7       Karaj         -9.0      73.0        12.3       0.0\n",
       "1  2022      2     Isfahan         13.0      78.0        12.8       0.0\n",
       "2  2021      9      Shiraz         -1.6      51.0        12.5       0.0\n",
       "3  2023     12     Hamedan         43.6      39.0         9.8       0.0\n",
       "4  2023     12  Kermanshah         39.4      55.0        13.0       0.0"
      ]
     },
     "execution_count": 2,
     "metadata": {},
     "output_type": "execute_result"
    }
   ],
   "source": [
    "import pandas as pd \n",
    "import matplotlib.pyplot as plt \n",
    "\n",
    "\n",
    "weatherData=pd.read_csv('weather.csv')\n",
    "\n",
    "weatherData.head()\n"
   ]
  },
  {
   "cell_type": "code",
   "execution_count": 5,
   "id": "e14eeaa9-62a3-46e4-98fa-b65f91944e78",
   "metadata": {},
   "outputs": [
    {
     "data": {
      "text/plain": [
       "(150000, 7)"
      ]
     },
     "execution_count": 5,
     "metadata": {},
     "output_type": "execute_result"
    }
   ],
   "source": [
    "weatherData.shape\n"
   ]
  },
  {
   "cell_type": "code",
   "execution_count": 3,
   "id": "bd30229c-baf6-4a7a-85a7-b92bb1cafb2b",
   "metadata": {},
   "outputs": [
    {
     "data": {
      "text/html": [
       "<div>\n",
       "<style scoped>\n",
       "    .dataframe tbody tr th:only-of-type {\n",
       "        vertical-align: middle;\n",
       "    }\n",
       "\n",
       "    .dataframe tbody tr th {\n",
       "        vertical-align: top;\n",
       "    }\n",
       "\n",
       "    .dataframe thead th {\n",
       "        text-align: right;\n",
       "    }\n",
       "</style>\n",
       "<table border=\"1\" class=\"dataframe\">\n",
       "  <thead>\n",
       "    <tr style=\"text-align: right;\">\n",
       "      <th></th>\n",
       "      <th>Year</th>\n",
       "      <th>Month</th>\n",
       "      <th>City</th>\n",
       "      <th>Temperature</th>\n",
       "      <th>Humidity</th>\n",
       "      <th>Wind Speed</th>\n",
       "      <th>Rainfall</th>\n",
       "    </tr>\n",
       "  </thead>\n",
       "  <tbody>\n",
       "    <tr>\n",
       "      <th>0</th>\n",
       "      <td>2021</td>\n",
       "      <td>7</td>\n",
       "      <td>Karaj</td>\n",
       "      <td>-9.0</td>\n",
       "      <td>73.0</td>\n",
       "      <td>12.3</td>\n",
       "      <td>0.0</td>\n",
       "    </tr>\n",
       "    <tr>\n",
       "      <th>1</th>\n",
       "      <td>2022</td>\n",
       "      <td>2</td>\n",
       "      <td>Isfahan</td>\n",
       "      <td>13.0</td>\n",
       "      <td>78.0</td>\n",
       "      <td>12.8</td>\n",
       "      <td>0.0</td>\n",
       "    </tr>\n",
       "    <tr>\n",
       "      <th>2</th>\n",
       "      <td>2021</td>\n",
       "      <td>9</td>\n",
       "      <td>Shiraz</td>\n",
       "      <td>-1.6</td>\n",
       "      <td>51.0</td>\n",
       "      <td>12.5</td>\n",
       "      <td>0.0</td>\n",
       "    </tr>\n",
       "    <tr>\n",
       "      <th>3</th>\n",
       "      <td>2023</td>\n",
       "      <td>12</td>\n",
       "      <td>Hamedan</td>\n",
       "      <td>43.6</td>\n",
       "      <td>39.0</td>\n",
       "      <td>9.8</td>\n",
       "      <td>0.0</td>\n",
       "    </tr>\n",
       "    <tr>\n",
       "      <th>4</th>\n",
       "      <td>2023</td>\n",
       "      <td>12</td>\n",
       "      <td>Kermanshah</td>\n",
       "      <td>39.4</td>\n",
       "      <td>55.0</td>\n",
       "      <td>13.0</td>\n",
       "      <td>0.0</td>\n",
       "    </tr>\n",
       "    <tr>\n",
       "      <th>...</th>\n",
       "      <td>...</td>\n",
       "      <td>...</td>\n",
       "      <td>...</td>\n",
       "      <td>...</td>\n",
       "      <td>...</td>\n",
       "      <td>...</td>\n",
       "      <td>...</td>\n",
       "    </tr>\n",
       "    <tr>\n",
       "      <th>149995</th>\n",
       "      <td>2023</td>\n",
       "      <td>10</td>\n",
       "      <td>Qom</td>\n",
       "      <td>11.5</td>\n",
       "      <td>28.0</td>\n",
       "      <td>11.9</td>\n",
       "      <td>0.0</td>\n",
       "    </tr>\n",
       "    <tr>\n",
       "      <th>149996</th>\n",
       "      <td>2022</td>\n",
       "      <td>6</td>\n",
       "      <td>Kermanshah</td>\n",
       "      <td>20.4</td>\n",
       "      <td>21.0</td>\n",
       "      <td>22.9</td>\n",
       "      <td>0.0</td>\n",
       "    </tr>\n",
       "    <tr>\n",
       "      <th>149997</th>\n",
       "      <td>2021</td>\n",
       "      <td>9</td>\n",
       "      <td>Ardabil</td>\n",
       "      <td>13.7</td>\n",
       "      <td>35.0</td>\n",
       "      <td>20.6</td>\n",
       "      <td>0.0</td>\n",
       "    </tr>\n",
       "    <tr>\n",
       "      <th>149998</th>\n",
       "      <td>2021</td>\n",
       "      <td>10</td>\n",
       "      <td>Karaj</td>\n",
       "      <td>-10.4</td>\n",
       "      <td>24.0</td>\n",
       "      <td>14.0</td>\n",
       "      <td>0.0</td>\n",
       "    </tr>\n",
       "    <tr>\n",
       "      <th>149999</th>\n",
       "      <td>2023</td>\n",
       "      <td>4</td>\n",
       "      <td>Kermanshah</td>\n",
       "      <td>19.3</td>\n",
       "      <td>62.0</td>\n",
       "      <td>17.3</td>\n",
       "      <td>0.0</td>\n",
       "    </tr>\n",
       "  </tbody>\n",
       "</table>\n",
       "<p>150000 rows × 7 columns</p>\n",
       "</div>"
      ],
      "text/plain": [
       "        Year  Month        City  Temperature  Humidity  Wind Speed  Rainfall\n",
       "0       2021      7       Karaj         -9.0      73.0        12.3       0.0\n",
       "1       2022      2     Isfahan         13.0      78.0        12.8       0.0\n",
       "2       2021      9      Shiraz         -1.6      51.0        12.5       0.0\n",
       "3       2023     12     Hamedan         43.6      39.0         9.8       0.0\n",
       "4       2023     12  Kermanshah         39.4      55.0        13.0       0.0\n",
       "...      ...    ...         ...          ...       ...         ...       ...\n",
       "149995  2023     10         Qom         11.5      28.0        11.9       0.0\n",
       "149996  2022      6  Kermanshah         20.4      21.0        22.9       0.0\n",
       "149997  2021      9     Ardabil         13.7      35.0        20.6       0.0\n",
       "149998  2021     10       Karaj        -10.4      24.0        14.0       0.0\n",
       "149999  2023      4  Kermanshah         19.3      62.0        17.3       0.0\n",
       "\n",
       "[150000 rows x 7 columns]"
      ]
     },
     "execution_count": 3,
     "metadata": {},
     "output_type": "execute_result"
    }
   ],
   "source": [
    "weatherData"
   ]
  },
  {
   "cell_type": "code",
   "execution_count": 5,
   "id": "59e38239-107a-492e-a666-e19bfb909f80",
   "metadata": {},
   "outputs": [
    {
     "data": {
      "text/html": [
       "<div>\n",
       "<style scoped>\n",
       "    .dataframe tbody tr th:only-of-type {\n",
       "        vertical-align: middle;\n",
       "    }\n",
       "\n",
       "    .dataframe tbody tr th {\n",
       "        vertical-align: top;\n",
       "    }\n",
       "\n",
       "    .dataframe thead th {\n",
       "        text-align: right;\n",
       "    }\n",
       "</style>\n",
       "<table border=\"1\" class=\"dataframe\">\n",
       "  <thead>\n",
       "    <tr style=\"text-align: right;\">\n",
       "      <th></th>\n",
       "      <th>Year</th>\n",
       "      <th>Month</th>\n",
       "      <th>Temperature</th>\n",
       "      <th>Humidity</th>\n",
       "      <th>Wind Speed</th>\n",
       "      <th>Rainfall</th>\n",
       "    </tr>\n",
       "  </thead>\n",
       "  <tbody>\n",
       "    <tr>\n",
       "      <th>count</th>\n",
       "      <td>150000.000000</td>\n",
       "      <td>150000.000000</td>\n",
       "      <td>148720.000000</td>\n",
       "      <td>147490.000000</td>\n",
       "      <td>146505.000000</td>\n",
       "      <td>143743.000000</td>\n",
       "    </tr>\n",
       "    <tr>\n",
       "      <th>mean</th>\n",
       "      <td>2022.001047</td>\n",
       "      <td>6.505400</td>\n",
       "      <td>15.031170</td>\n",
       "      <td>54.976642</td>\n",
       "      <td>12.475192</td>\n",
       "      <td>10.045106</td>\n",
       "    </tr>\n",
       "    <tr>\n",
       "      <th>std</th>\n",
       "      <td>0.817115</td>\n",
       "      <td>3.459799</td>\n",
       "      <td>17.331648</td>\n",
       "      <td>26.243239</td>\n",
       "      <td>7.230129</td>\n",
       "      <td>23.879449</td>\n",
       "    </tr>\n",
       "    <tr>\n",
       "      <th>min</th>\n",
       "      <td>2021.000000</td>\n",
       "      <td>1.000000</td>\n",
       "      <td>-15.000000</td>\n",
       "      <td>10.000000</td>\n",
       "      <td>0.000000</td>\n",
       "      <td>0.000000</td>\n",
       "    </tr>\n",
       "    <tr>\n",
       "      <th>25%</th>\n",
       "      <td>2021.000000</td>\n",
       "      <td>3.000000</td>\n",
       "      <td>-0.000000</td>\n",
       "      <td>32.000000</td>\n",
       "      <td>6.200000</td>\n",
       "      <td>0.000000</td>\n",
       "    </tr>\n",
       "    <tr>\n",
       "      <th>50%</th>\n",
       "      <td>2022.000000</td>\n",
       "      <td>7.000000</td>\n",
       "      <td>15.000000</td>\n",
       "      <td>55.000000</td>\n",
       "      <td>12.500000</td>\n",
       "      <td>0.000000</td>\n",
       "    </tr>\n",
       "    <tr>\n",
       "      <th>75%</th>\n",
       "      <td>2023.000000</td>\n",
       "      <td>10.000000</td>\n",
       "      <td>30.100000</td>\n",
       "      <td>78.000000</td>\n",
       "      <td>18.800000</td>\n",
       "      <td>0.000000</td>\n",
       "    </tr>\n",
       "    <tr>\n",
       "      <th>max</th>\n",
       "      <td>2023.000000</td>\n",
       "      <td>12.000000</td>\n",
       "      <td>45.000000</td>\n",
       "      <td>100.000000</td>\n",
       "      <td>25.000000</td>\n",
       "      <td>100.000000</td>\n",
       "    </tr>\n",
       "  </tbody>\n",
       "</table>\n",
       "</div>"
      ],
      "text/plain": [
       "                Year          Month    Temperature       Humidity  \\\n",
       "count  150000.000000  150000.000000  148720.000000  147490.000000   \n",
       "mean     2022.001047       6.505400      15.031170      54.976642   \n",
       "std         0.817115       3.459799      17.331648      26.243239   \n",
       "min      2021.000000       1.000000     -15.000000      10.000000   \n",
       "25%      2021.000000       3.000000      -0.000000      32.000000   \n",
       "50%      2022.000000       7.000000      15.000000      55.000000   \n",
       "75%      2023.000000      10.000000      30.100000      78.000000   \n",
       "max      2023.000000      12.000000      45.000000     100.000000   \n",
       "\n",
       "          Wind Speed       Rainfall  \n",
       "count  146505.000000  143743.000000  \n",
       "mean       12.475192      10.045106  \n",
       "std         7.230129      23.879449  \n",
       "min         0.000000       0.000000  \n",
       "25%         6.200000       0.000000  \n",
       "50%        12.500000       0.000000  \n",
       "75%        18.800000       0.000000  \n",
       "max        25.000000     100.000000  "
      ]
     },
     "execution_count": 5,
     "metadata": {},
     "output_type": "execute_result"
    }
   ],
   "source": [
    "weatherData.describe()"
   ]
  },
  {
   "cell_type": "code",
   "execution_count": 7,
   "id": "1a4e7bec-8596-4847-b5a3-5760932697f3",
   "metadata": {},
   "outputs": [
    {
     "data": {
      "text/plain": [
       "City\n",
       "Hamedan       10001\n",
       "Tabriz         9958\n",
       "Sanandaj       9906\n",
       "Karaj          9884\n",
       "Qom            9878\n",
       "Kermanshah     9874\n",
       "Isfahan        9842\n",
       "Mashhad        9836\n",
       "Ardabil        9833\n",
       "Yazd           9805\n",
       "Rasht          9779\n",
       "Tehran         9763\n",
       "Ahvaz          9728\n",
       "Urmia          9703\n",
       "Shiraz         9700\n",
       "Name: count, dtype: int64"
      ]
     },
     "execution_count": 7,
     "metadata": {},
     "output_type": "execute_result"
    }
   ],
   "source": [
    "weatherData['City'].value_counts()"
   ]
  },
  {
   "cell_type": "code",
   "execution_count": 8,
   "id": "df9fd974-b1bd-47f2-857f-998cba59228a",
   "metadata": {},
   "outputs": [
    {
     "data": {
      "text/plain": [
       "Year           False\n",
       "Month          False\n",
       "City            True\n",
       "Temperature     True\n",
       "Humidity        True\n",
       "Wind Speed      True\n",
       "Rainfall        True\n",
       "dtype: bool"
      ]
     },
     "execution_count": 8,
     "metadata": {},
     "output_type": "execute_result"
    }
   ],
   "source": [
    "weatherData.isna().any()"
   ]
  },
  {
   "cell_type": "code",
   "execution_count": 9,
   "id": "4e755705-04de-4b27-856d-78326af6977a",
   "metadata": {},
   "outputs": [
    {
     "data": {
      "text/plain": [
       "Year              0\n",
       "Month             0\n",
       "City           2510\n",
       "Temperature    1280\n",
       "Humidity       2510\n",
       "Wind Speed     3495\n",
       "Rainfall       6257\n",
       "dtype: int64"
      ]
     },
     "execution_count": 9,
     "metadata": {},
     "output_type": "execute_result"
    }
   ],
   "source": [
    "weatherData.isna().sum()"
   ]
  },
  {
   "cell_type": "code",
   "execution_count": 10,
   "id": "b15837d3-60f0-4299-83f3-882165c11d7a",
   "metadata": {},
   "outputs": [
    {
     "data": {
      "text/plain": [
       "16052"
      ]
     },
     "execution_count": 10,
     "metadata": {},
     "output_type": "execute_result"
    }
   ],
   "source": [
    "weatherData.isna().sum().sum()"
   ]
  },
  {
   "cell_type": "code",
   "execution_count": 11,
   "id": "5f36b76f-7e5d-4b05-afdb-f8a3c94dcff4",
   "metadata": {},
   "outputs": [],
   "source": [
    "weatherData['City']=weatherData['City'].fillna('UnKnown')"
   ]
  },
  {
   "cell_type": "code",
   "execution_count": 12,
   "id": "6e5953f5-2573-43ac-a542-5b7a7ea07b55",
   "metadata": {},
   "outputs": [
    {
     "data": {
      "text/plain": [
       "Year              0\n",
       "Month             0\n",
       "City              0\n",
       "Temperature    1280\n",
       "Humidity       2510\n",
       "Wind Speed     3495\n",
       "Rainfall       6257\n",
       "dtype: int64"
      ]
     },
     "execution_count": 12,
     "metadata": {},
     "output_type": "execute_result"
    }
   ],
   "source": [
    "weatherData.isna().sum()"
   ]
  },
  {
   "cell_type": "code",
   "execution_count": 13,
   "id": "16d4f1f3-f4b7-4a7e-b720-e1e5a43e8fc1",
   "metadata": {},
   "outputs": [
    {
     "data": {
      "text/plain": [
       "13542"
      ]
     },
     "execution_count": 13,
     "metadata": {},
     "output_type": "execute_result"
    }
   ],
   "source": [
    "weatherData.isna().sum().sum()"
   ]
  },
  {
   "cell_type": "code",
   "execution_count": 16,
   "id": "07539750-33fd-46ef-b970-1e0c47e60add",
   "metadata": {},
   "outputs": [],
   "source": [
    "weather_data_clean=weatherData.dropna(subset=['Temperature','Humidity','Rainfall'])"
   ]
  },
  {
   "cell_type": "code",
   "execution_count": 18,
   "id": "8bdc0991-c088-4f76-99c0-04b536943c1b",
   "metadata": {},
   "outputs": [
    {
     "data": {
      "text/plain": [
       "Year              0\n",
       "Month             0\n",
       "City              0\n",
       "Temperature       0\n",
       "Humidity          0\n",
       "Wind Speed     3278\n",
       "Rainfall          0\n",
       "dtype: int64"
      ]
     },
     "execution_count": 18,
     "metadata": {},
     "output_type": "execute_result"
    }
   ],
   "source": [
    "weather_data_clean.isna().sum()"
   ]
  },
  {
   "cell_type": "code",
   "execution_count": 19,
   "id": "816d7057-a299-4191-885f-4bf32c5cb2f4",
   "metadata": {},
   "outputs": [
    {
     "data": {
      "text/plain": [
       "3278"
      ]
     },
     "execution_count": 19,
     "metadata": {},
     "output_type": "execute_result"
    }
   ],
   "source": [
    "weather_data_clean.isna().sum().sum()"
   ]
  },
  {
   "cell_type": "code",
   "execution_count": 25,
   "id": "48680ada-552a-4f9b-b99a-14c44b0a1987",
   "metadata": {},
   "outputs": [
    {
     "data": {
      "text/plain": [
       "City\n",
       "Qom           10.317962\n",
       "Urmia         10.306699\n",
       "Tabriz        10.277582\n",
       "Ahvaz         10.253507\n",
       "Mashhad       10.188598\n",
       "Kermanshah    10.084150\n",
       "Tehran        10.060142\n",
       "Shiraz        10.011263\n",
       "Karaj          9.996750\n",
       "Sanandaj       9.976036\n",
       "Yazd           9.955178\n",
       "Isfahan        9.869164\n",
       "Rasht          9.866663\n",
       "Ardabil        9.688473\n",
       "Hamedan        9.607857\n",
       "Name: Rainfall, dtype: float64"
      ]
     },
     "execution_count": 25,
     "metadata": {},
     "output_type": "execute_result"
    }
   ],
   "source": [
    "Rainfall_Mean=weather_data_clean.groupby('City')['Rainfall'].mean().sort_values(ascending=False)\n",
    "Rainfall_Mean"
   ]
  },
  {
   "cell_type": "code",
   "execution_count": 26,
   "id": "4718decf-af86-4deb-abda-0b41b9a24ed6",
   "metadata": {},
   "outputs": [
    {
     "data": {
      "text/plain": [
       "City\n",
       "Hamedan        9.607857\n",
       "Ardabil        9.688473\n",
       "Rasht          9.866663\n",
       "Isfahan        9.869164\n",
       "Yazd           9.955178\n",
       "Sanandaj       9.976036\n",
       "Karaj          9.996750\n",
       "Shiraz        10.011263\n",
       "Tehran        10.060142\n",
       "Kermanshah    10.084150\n",
       "Mashhad       10.188598\n",
       "Ahvaz         10.253507\n",
       "Tabriz        10.277582\n",
       "Urmia         10.306699\n",
       "Qom           10.317962\n",
       "Name: Rainfall, dtype: float64"
      ]
     },
     "execution_count": 26,
     "metadata": {},
     "output_type": "execute_result"
    }
   ],
   "source": [
    "Rainfall_Mean=weather_data_clean.groupby('City')['Rainfall'].mean().sort_values(ascending=True)\n",
    "Rainfall_Mean"
   ]
  },
  {
   "cell_type": "code",
   "execution_count": 29,
   "id": "bf4df4ce-1cd0-41e6-8307-7810a3ea8263",
   "metadata": {},
   "outputs": [
    {
     "data": {
      "text/plain": [
       "City\n",
       "Qom        10.317962\n",
       "Urmia      10.306699\n",
       "Tabriz     10.277582\n",
       "Ahvaz      10.253507\n",
       "Mashhad    10.188598\n",
       "Name: Rainfall, dtype: float64"
      ]
     },
     "execution_count": 29,
     "metadata": {},
     "output_type": "execute_result"
    }
   ],
   "source": [
    "Rainfall_Mean=weather_data_clean.groupby('City')['Rainfall'].mean().sort_values(ascending=False)[:5]\n",
    "Rainfall_Mean"
   ]
  },
  {
   "cell_type": "code",
   "execution_count": 28,
   "id": "25c60329-9fd1-4102-9c36-31997847394c",
   "metadata": {},
   "outputs": [
    {
     "data": {
      "text/plain": [
       "City\n",
       "Hamedan    9.607857\n",
       "Ardabil    9.688473\n",
       "Rasht      9.866663\n",
       "Isfahan    9.869164\n",
       "Yazd       9.955178\n",
       "Name: Rainfall, dtype: float64"
      ]
     },
     "execution_count": 28,
     "metadata": {},
     "output_type": "execute_result"
    }
   ],
   "source": [
    "Rainfall_Mean=weather_data_clean.groupby('City')['Rainfall'].mean().sort_values(ascending=True)[:5]\n",
    "Rainfall_Mean"
   ]
  },
  {
   "cell_type": "code",
   "execution_count": 30,
   "id": "f1ff8a3d-4db3-4427-ac01-438dd04f9d7f",
   "metadata": {},
   "outputs": [
    {
     "data": {
      "text/plain": [
       "Month\n",
       "1     100.0\n",
       "2     100.0\n",
       "3     100.0\n",
       "4     100.0\n",
       "5     100.0\n",
       "6      99.9\n",
       "7     100.0\n",
       "8     100.0\n",
       "9     100.0\n",
       "10    100.0\n",
       "11    100.0\n",
       "12    100.0\n",
       "Name: Rainfall, dtype: float64"
      ]
     },
     "execution_count": 30,
     "metadata": {},
     "output_type": "execute_result"
    }
   ],
   "source": [
    "weather_data_clean.groupby('Month')['Rainfall'].max()"
   ]
  },
  {
   "cell_type": "code",
   "execution_count": 31,
   "id": "7a096e10-0cd7-47ec-92d1-0dd7ad5d81a9",
   "metadata": {},
   "outputs": [
    {
     "data": {
      "text/plain": [
       "Month\n",
       "1     0.0\n",
       "2     0.0\n",
       "3     0.0\n",
       "4     0.0\n",
       "5     0.0\n",
       "6     0.0\n",
       "7     0.0\n",
       "8     0.0\n",
       "9     0.0\n",
       "10    0.0\n",
       "11    0.0\n",
       "12    0.0\n",
       "Name: Rainfall, dtype: float64"
      ]
     },
     "execution_count": 31,
     "metadata": {},
     "output_type": "execute_result"
    }
   ],
   "source": [
    "weather_data_clean.groupby('Month')['Rainfall'].min()"
   ]
  },
  {
   "cell_type": "code",
   "execution_count": 32,
   "id": "e9f42045-82e5-41e6-a725-78be3746ce47",
   "metadata": {},
   "outputs": [
    {
     "ename": "ValueError",
     "evalue": "must supply a tuple to get_group with multiple grouping keys",
     "output_type": "error",
     "traceback": [
      "\u001b[0;31m---------------------------------------------------------------------------\u001b[0m",
      "\u001b[0;31mValueError\u001b[0m                                Traceback (most recent call last)",
      "Cell \u001b[0;32mIn[32], line 1\u001b[0m\n\u001b[0;32m----> 1\u001b[0m \u001b[43mweather_data_clean\u001b[49m\u001b[38;5;241;43m.\u001b[39;49m\u001b[43mgroupby\u001b[49m\u001b[43m(\u001b[49m\u001b[43m[\u001b[49m\u001b[38;5;124;43m'\u001b[39;49m\u001b[38;5;124;43mCity\u001b[39;49m\u001b[38;5;124;43m'\u001b[39;49m\u001b[43m,\u001b[49m\u001b[38;5;124;43m'\u001b[39;49m\u001b[38;5;124;43mYear\u001b[39;49m\u001b[38;5;124;43m'\u001b[39;49m\u001b[43m]\u001b[49m\u001b[43m)\u001b[49m\u001b[38;5;241;43m.\u001b[39;49m\u001b[43mget_group\u001b[49m\u001b[43m(\u001b[49m\u001b[43m[\u001b[49m\u001b[38;5;124;43m'\u001b[39;49m\u001b[38;5;124;43mTehran\u001b[39;49m\u001b[38;5;124;43m'\u001b[39;49m\u001b[43m,\u001b[49m\u001b[38;5;124;43m'\u001b[39;49m\u001b[38;5;124;43m2022\u001b[39;49m\u001b[38;5;124;43m'\u001b[39;49m\u001b[43m]\u001b[49m\u001b[43m)\u001b[49m\n",
      "File \u001b[0;32m/usr/local/lib/python3.11/site-packages/pandas/core/groupby/groupby.py:1112\u001b[0m, in \u001b[0;36mBaseGroupBy.get_group\u001b[0;34m(self, name, obj)\u001b[0m\n\u001b[1;32m   1102\u001b[0m     \u001b[38;5;28;01melif\u001b[39;00m \u001b[38;5;129;01mnot\u001b[39;00m \u001b[38;5;28misinstance\u001b[39m(name, \u001b[38;5;28mtuple\u001b[39m):\n\u001b[1;32m   1103\u001b[0m         warnings\u001b[38;5;241m.\u001b[39mwarn(\n\u001b[1;32m   1104\u001b[0m             \u001b[38;5;124m\"\u001b[39m\u001b[38;5;124mWhen grouping with a length-1 list-like, \u001b[39m\u001b[38;5;124m\"\u001b[39m\n\u001b[1;32m   1105\u001b[0m             \u001b[38;5;124m\"\u001b[39m\u001b[38;5;124myou will need to pass a length-1 tuple to get_group in a future \u001b[39m\u001b[38;5;124m\"\u001b[39m\n\u001b[0;32m   (...)\u001b[0m\n\u001b[1;32m   1109\u001b[0m             stacklevel\u001b[38;5;241m=\u001b[39mfind_stack_level(),\n\u001b[1;32m   1110\u001b[0m         )\n\u001b[0;32m-> 1112\u001b[0m inds \u001b[38;5;241m=\u001b[39m \u001b[38;5;28;43mself\u001b[39;49m\u001b[38;5;241;43m.\u001b[39;49m\u001b[43m_get_index\u001b[49m\u001b[43m(\u001b[49m\u001b[43mname\u001b[49m\u001b[43m)\u001b[49m\n\u001b[1;32m   1113\u001b[0m \u001b[38;5;28;01mif\u001b[39;00m \u001b[38;5;129;01mnot\u001b[39;00m \u001b[38;5;28mlen\u001b[39m(inds):\n\u001b[1;32m   1114\u001b[0m     \u001b[38;5;28;01mraise\u001b[39;00m \u001b[38;5;167;01mKeyError\u001b[39;00m(name)\n",
      "File \u001b[0;32m/usr/local/lib/python3.11/site-packages/pandas/core/groupby/groupby.py:964\u001b[0m, in \u001b[0;36mBaseGroupBy._get_index\u001b[0;34m(self, name)\u001b[0m\n\u001b[1;32m    959\u001b[0m \u001b[38;5;129m@final\u001b[39m\n\u001b[1;32m    960\u001b[0m \u001b[38;5;28;01mdef\u001b[39;00m \u001b[38;5;21m_get_index\u001b[39m(\u001b[38;5;28mself\u001b[39m, name):\n\u001b[1;32m    961\u001b[0m \u001b[38;5;250m    \u001b[39m\u001b[38;5;124;03m\"\"\"\u001b[39;00m\n\u001b[1;32m    962\u001b[0m \u001b[38;5;124;03m    Safe get index, translate keys for datelike to underlying repr.\u001b[39;00m\n\u001b[1;32m    963\u001b[0m \u001b[38;5;124;03m    \"\"\"\u001b[39;00m\n\u001b[0;32m--> 964\u001b[0m     \u001b[38;5;28;01mreturn\u001b[39;00m \u001b[38;5;28;43mself\u001b[39;49m\u001b[38;5;241;43m.\u001b[39;49m\u001b[43m_get_indices\u001b[49m\u001b[43m(\u001b[49m\u001b[43m[\u001b[49m\u001b[43mname\u001b[49m\u001b[43m]\u001b[49m\u001b[43m)\u001b[49m[\u001b[38;5;241m0\u001b[39m]\n",
      "File \u001b[0;32m/usr/local/lib/python3.11/site-packages/pandas/core/groupby/groupby.py:937\u001b[0m, in \u001b[0;36mBaseGroupBy._get_indices\u001b[0;34m(self, names)\u001b[0m\n\u001b[1;32m    935\u001b[0m \u001b[38;5;28;01mif\u001b[39;00m \u001b[38;5;129;01mnot\u001b[39;00m \u001b[38;5;28misinstance\u001b[39m(name_sample, \u001b[38;5;28mtuple\u001b[39m):\n\u001b[1;32m    936\u001b[0m     msg \u001b[38;5;241m=\u001b[39m \u001b[38;5;124m\"\u001b[39m\u001b[38;5;124mmust supply a tuple to get_group with multiple grouping keys\u001b[39m\u001b[38;5;124m\"\u001b[39m\n\u001b[0;32m--> 937\u001b[0m     \u001b[38;5;28;01mraise\u001b[39;00m \u001b[38;5;167;01mValueError\u001b[39;00m(msg)\n\u001b[1;32m    938\u001b[0m \u001b[38;5;28;01mif\u001b[39;00m \u001b[38;5;129;01mnot\u001b[39;00m \u001b[38;5;28mlen\u001b[39m(name_sample) \u001b[38;5;241m==\u001b[39m \u001b[38;5;28mlen\u001b[39m(index_sample):\n\u001b[1;32m    939\u001b[0m     \u001b[38;5;28;01mtry\u001b[39;00m:\n\u001b[1;32m    940\u001b[0m         \u001b[38;5;66;03m# If the original grouper was a tuple\u001b[39;00m\n",
      "\u001b[0;31mValueError\u001b[0m: must supply a tuple to get_group with multiple grouping keys"
     ]
    }
   ],
   "source": [
    "weather_data_clean.groupby(['City','Year']).get_group(['Tehran','2022'])"
   ]
  },
  {
   "cell_type": "code",
   "execution_count": null,
   "id": "2097622c-bb57-409b-95e5-969ce89c0f0f",
   "metadata": {},
   "outputs": [],
   "source": []
  }
 ],
 "metadata": {
  "kernelspec": {
   "display_name": "Python 3 (ipykernel)",
   "language": "python",
   "name": "python3"
  },
  "language_info": {
   "codemirror_mode": {
    "name": "ipython",
    "version": 3
   },
   "file_extension": ".py",
   "mimetype": "text/x-python",
   "name": "python",
   "nbconvert_exporter": "python",
   "pygments_lexer": "ipython3",
   "version": "3.11.9"
  }
 },
 "nbformat": 4,
 "nbformat_minor": 5
}
